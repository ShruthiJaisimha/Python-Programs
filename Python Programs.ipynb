{
 "cells": [
  {
   "cell_type": "code",
   "execution_count": 12,
   "metadata": {},
   "outputs": [],
   "source": [
    "class BankAccount():\n",
    "    \n",
    "    def __init__(self, initial_balance = 100):\n",
    "        self.balance = initial_balance\n",
    "        \n",
    "    def deposit(self, dep = 0):\n",
    "        self.dep = float(input('Type the amount you want to deposit' '\\n'))\n",
    "        self.balance = self.balance + self.dep\n",
    "        return self.balance\n",
    "        \n",
    "    def withdraw(self, withdraw = 0):\n",
    "        self.withdraw = float(input('Type the amout you want to withdraw' '\\n'))\n",
    "        self.balance = self.balance -self.withdraw \n",
    "        return self.balance\n",
    "\n",
    "    def overdrawn(self):\n",
    "        if(self.balance < 0):\n",
    "            print('The amount withdrawn is not permitted')"
   ]
  },
  {
   "cell_type": "code",
   "execution_count": 13,
   "metadata": {},
   "outputs": [],
   "source": [
    "hold = BankAccount()"
   ]
  },
  {
   "cell_type": "code",
   "execution_count": 9,
   "metadata": {},
   "outputs": [],
   "source": [
    "class BankAccountMe(BankAccount):\n",
    "    \n",
    "    inp = input('Deposit, Withdraw or Check balance')\n",
    "    \n",
    "    \n",
    "        "
   ]
  },
  {
   "cell_type": "code",
   "execution_count": 10,
   "metadata": {},
   "outputs": [],
   "source": [
    "holdup = BankAccountMe()"
   ]
  },
  {
   "cell_type": "code",
   "execution_count": null,
   "metadata": {},
   "outputs": [],
   "source": []
  },
  {
   "cell_type": "code",
   "execution_count": null,
   "metadata": {},
   "outputs": [],
   "source": []
  },
  {
   "cell_type": "code",
   "execution_count": 9,
   "metadata": {},
   "outputs": [
    {
     "name": "stdout",
     "output_type": "stream",
     "text": [
      "50\n",
      "2 3 5 7 11 13 17 19 23 29 31 37 41 43 47\n"
     ]
    }
   ],
   "source": [
    "count_value = int(input())\n",
    "\n",
    "inp = [i for i in range(0, count_value+1)]\n",
    "\n",
    "a = []\n",
    "for i in range(1, count_value):\n",
    "    count = 0\n",
    "    for j in range(1,count_value):\n",
    "        if i%j == 0:\n",
    "            count = count + 1\n",
    "    if count == 2:\n",
    "        a.append(i)\n",
    "        \n",
    "for i in range(0, len(a)): \n",
    "    a[i] = str(a[i]) \n",
    "    \n",
    "str1 = ' '\n",
    "joined_string = str1.join(a)\n",
    "print(joined_string)\n"
   ]
  },
  {
   "cell_type": "code",
   "execution_count": 125,
   "metadata": {},
   "outputs": [
    {
     "name": "stdout",
     "output_type": "stream",
     "text": [
      "5\n",
      "97\n",
      "108 WS\n",
      "42\n",
      "43 WS\n",
      "50\n",
      "59 MS\n",
      "60\n",
      "49 WS\n",
      "5\n",
      "8 MS\n"
     ]
    },
    {
     "data": {
      "text/plain": [
       "'\\nfor i in range(0, 9):\\n    \\n    if subList_modified01[i].get(inp_value2) != None:\\n        for k,v in subList_modified11[i].items():\\n            if v == subList_modified01[i].get(inp_value2):\\n                print(k, v)\\n    \\n    elif subList_modified11[i].get(inp_value2) != None:\\n        for k,v in subList_modified01[i+1].items():\\n            if v == subList_modified11[i].get(inp_value2):\\n                print(k, v)\\n    \\n    elif subList_modified21[i].get(inp_value2) != None:\\n        for k,v in subList_modified31[i].items():\\n            if v == subList_modified21[i].get(inp_value2):\\n                print(k, v)\\n    \\n    elif subList_modified31[i].get(inp_value2) != None:\\n        for k,v in subList_modified21[i+1].items():\\n            if v == subList_modified31[i].get(inp_value2):\\n                print(k, v)\\n                \\n'"
      ]
     },
     "execution_count": 125,
     "metadata": {},
     "output_type": "execute_result"
    }
   ],
   "source": [
    "'''\n",
    "# Sample code to perform I/O:\n",
    "\n",
    "name = input()                  # Reading input from STDIN\n",
    "print('Hi, %s.' % name)         # Writing output to STDOUT\n",
    "\n",
    "# Warning: Printing unwanted or ill-formatted data to output will cause the test cases to fail\n",
    "'''\n",
    "\n",
    "# Write your code here\n",
    "\n",
    "a = [ i for i in range(0,109)]\n",
    "\n",
    "subList = [a[n:n+3] for n in range(1, len(a), 3)]\n",
    "\n",
    "\n",
    "subList_0 = []\n",
    "seat_0 = ['WS', 'MS', 'AS']\n",
    "\n",
    "for i in range(len(subList)):\n",
    "    if i%4 == 0:\n",
    "        subList_0.append(subList[i])\n",
    "\n",
    "subList_modified01 = []\n",
    "\n",
    "for i in range(0,9):\n",
    "    subList_modified = {subList_0[i][j] : seat_0[j] for j in range(0, 3)}\n",
    "    subList_modified01.append(subList_modified)\n",
    "    \n",
    "\n",
    "subList_1 = []\n",
    "seat_1 = ['AS', 'MS', 'WS']  \n",
    "\n",
    "for i in range(3, len(subList), 4):\n",
    "    subList_1.append(subList[i])\n",
    "\n",
    "\n",
    "subList_modified11 = []\n",
    "\n",
    "for i in range(0,9):\n",
    "    subList_modified1 = {subList_1[i][j] : seat_1[j] for j in range(0, 3)}\n",
    "    subList_modified11.append(subList_modified1)\n",
    "    \n",
    "\n",
    "subList_2 = []\n",
    "\n",
    "for i in range(1, len(subList), 4):\n",
    "    subList_2.append(subList[i])\n",
    "    \n",
    "subList_modified21 = []\n",
    "\n",
    "for i in range(0,9):\n",
    "    subList_modified2 = {subList_2[i][j] : seat_1[j] for j in range(0, 3)}\n",
    "    subList_modified21.append(subList_modified2)\n",
    "\n",
    "\n",
    "subList_3 = []\n",
    "\n",
    "for i in range(2, len(subList), 4):\n",
    "    subList_3.append(subList[i])\n",
    "    \n",
    "subList_modified31 = []\n",
    "\n",
    "for i in range(0,9):\n",
    "    subList_modified3 = {subList_3[i][j] : seat_0[j] for j in range(0, 3)}\n",
    "    subList_modified31.append(subList_modified3)\n",
    "\n",
    "\n",
    "inp = int(input())\n",
    "\n",
    "for i in range(0, inp):\n",
    "    inp_value1 = int(input())\n",
    "    \n",
    "    for i in range(0, 9):\n",
    "\n",
    "        if subList_modified01[i].get(inp_value1) != None:\n",
    "            for k,v in subList_modified11[i].items():\n",
    "                if v == subList_modified01[i].get(inp_value1):\n",
    "                    print(k, v)\n",
    "\n",
    "        elif subList_modified11[i].get(inp_value1) != None:\n",
    "            for k,v in subList_modified01[i].items():\n",
    "                if v == subList_modified11[i].get(inp_value1):\n",
    "                    print(k, v)\n",
    "\n",
    "        elif subList_modified21[i].get(inp_value1) != None:\n",
    "            for k,v in subList_modified31[i].items():\n",
    "                if v == subList_modified21[i].get(inp_value1):\n",
    "                    print(k, v)\n",
    "\n",
    "        elif subList_modified31[i].get(inp_value1) != None:\n",
    "            for k,v in subList_modified21[i].items():\n",
    "                if v == subList_modified31[i].get(inp_value1):\n",
    "                    print(k, v)\n",
    "        \n",
    "'''\n",
    "for i in range(0, 9):\n",
    "    \n",
    "    if subList_modified01[i].get(inp_value2) != None:\n",
    "        for k,v in subList_modified11[i].items():\n",
    "            if v == subList_modified01[i].get(inp_value2):\n",
    "                print(k, v)\n",
    "    \n",
    "    elif subList_modified11[i].get(inp_value2) != None:\n",
    "        for k,v in subList_modified01[i+1].items():\n",
    "            if v == subList_modified11[i].get(inp_value2):\n",
    "                print(k, v)\n",
    "    \n",
    "    elif subList_modified21[i].get(inp_value2) != None:\n",
    "        for k,v in subList_modified31[i].items():\n",
    "            if v == subList_modified21[i].get(inp_value2):\n",
    "                print(k, v)\n",
    "    \n",
    "    elif subList_modified31[i].get(inp_value2) != None:\n",
    "        for k,v in subList_modified21[i+1].items():\n",
    "            if v == subList_modified31[i].get(inp_value2):\n",
    "                print(k, v)\n",
    "                \n",
    "'''                "
   ]
  },
  {
   "cell_type": "code",
   "execution_count": 11,
   "metadata": {},
   "outputs": [
    {
     "name": "stdout",
     "output_type": "stream",
     "text": [
      "[{1: 'WS', 2: 'MS', 3: 'AS'}, {13: 'WS', 14: 'MS', 15: 'AS'}, {25: 'WS', 26: 'MS', 27: 'AS'}, {37: 'WS', 38: 'MS', 39: 'AS'}, {49: 'WS', 50: 'MS', 51: 'AS'}, {61: 'WS', 62: 'MS', 63: 'AS'}, {73: 'WS', 74: 'MS', 75: 'AS'}, {85: 'WS', 86: 'MS', 87: 'AS'}, {97: 'WS', 98: 'MS', 99: 'AS'}]\n"
     ]
    }
   ],
   "source": [
    "print(subList_modified01)"
   ]
  },
  {
   "cell_type": "code",
   "execution_count": 12,
   "metadata": {},
   "outputs": [
    {
     "name": "stdout",
     "output_type": "stream",
     "text": [
      "[{10: 'AS', 11: 'MS', 12: 'WS'}, {22: 'AS', 23: 'MS', 24: 'WS'}, {34: 'AS', 35: 'MS', 36: 'WS'}, {46: 'AS', 47: 'MS', 48: 'WS'}, {58: 'AS', 59: 'MS', 60: 'WS'}, {70: 'AS', 71: 'MS', 72: 'WS'}, {82: 'AS', 83: 'MS', 84: 'WS'}, {94: 'AS', 95: 'MS', 96: 'WS'}, {106: 'AS', 107: 'MS', 108: 'WS'}]\n"
     ]
    }
   ],
   "source": [
    "print(subList_modified11)"
   ]
  },
  {
   "cell_type": "code",
   "execution_count": 13,
   "metadata": {},
   "outputs": [
    {
     "name": "stdout",
     "output_type": "stream",
     "text": [
      "[{4: 'AS', 5: 'MS', 6: 'WS'}, {16: 'AS', 17: 'MS', 18: 'WS'}, {28: 'AS', 29: 'MS', 30: 'WS'}, {40: 'AS', 41: 'MS', 42: 'WS'}, {52: 'AS', 53: 'MS', 54: 'WS'}, {64: 'AS', 65: 'MS', 66: 'WS'}, {76: 'AS', 77: 'MS', 78: 'WS'}, {88: 'AS', 89: 'MS', 90: 'WS'}, {100: 'AS', 101: 'MS', 102: 'WS'}]\n"
     ]
    }
   ],
   "source": [
    "print(subList_modified21)"
   ]
  },
  {
   "cell_type": "code",
   "execution_count": 14,
   "metadata": {},
   "outputs": [
    {
     "name": "stdout",
     "output_type": "stream",
     "text": [
      "[{7: 'WS', 8: 'MS', 9: 'AS'}, {19: 'WS', 20: 'MS', 21: 'AS'}, {31: 'WS', 32: 'MS', 33: 'AS'}, {43: 'WS', 44: 'MS', 45: 'AS'}, {55: 'WS', 56: 'MS', 57: 'AS'}, {67: 'WS', 68: 'MS', 69: 'AS'}, {79: 'WS', 80: 'MS', 81: 'AS'}, {91: 'WS', 92: 'MS', 93: 'AS'}, {103: 'WS', 104: 'MS', 105: 'AS'}]\n"
     ]
    }
   ],
   "source": [
    "print(subList_modified31)"
   ]
  },
  {
   "cell_type": "code",
   "execution_count": 86,
   "metadata": {},
   "outputs": [
    {
     "name": "stdout",
     "output_type": "stream",
     "text": [
      "1000\n",
      "290 112 217 950 559 866 239 367 549 141 323 967 927 267 917 681 348 478 868 325 332 391 445 738 809 573 792 662 942 877 727 131 86 723 397 657 507 511 369 921 459 960 870 657 399 973 856 586 674 679 104 133 836 851 716 534 245 29 613 880 119 737 640 62 888 967 969 361 51 937 3 813 912 480 624 694 900 926 255 726 499 435 514 297 752 805 340 230 543 735 517 954 913 104 972 958 843 695 50 379 540 500 171 370 658 737 376 540 639 233 215 920 925 659 243 158 920 741 362 191 606 8 945 142 360 138 695 648 103 20 514 148 999 1 591 136 454 100 561 272 697 452 426 841 538 298 71 614 941 553 352 278 120 769 721 948 286 4 450 801 212 463 854 586 881 227 276 130 412 987 962 82 248 195 835 398 350 766 59 16 868 108 50 649 633 436 939 829 186 763 675 804 728 194 276 615 332 985 464 472 350 72 631 616 771 115 644 389 929 886 946 571 860 214 114 741 443 318 6 696 917 725 741 725 838 600 645 540 800 240 55 110 600 208 388 53 612 464 996 474 854 828 618 915 590 755 751 832 964 877 191 448 89 57 224 837 970 918 81 595 869 398 353 869 617 934 991 742 773 65 506 274 243 476 710 975 723 486 746 130 135 139 714 2 119 229 929 953 531 295 284 876 577 269 849 175 798 516 178 230 924 610 154 599 635 639 253 928 68 336 674 993 791 535 621 788 250 61 643 448 734 855 751 368 36 244 516 758 564 768 853 698 30 899 530 634 186 996 261 364 437 341 143 175 906 638 341 187 123 101 824 209 870 668 457 860 334 271 947 246 81 368 662 507 562 469 430 977 779 974 375 693 249 37 250 345 29 987 114 34 378 886 561 538 497 959 863 820 426 141 201 205 618 89 216 191 827 853 668 139 947 762 437 878 65 145 390 175 525 395 164 177 784 406 455 739 657 658 927 807 89 394 276 48 587 58 15 371 807 276 878 716 555 723 8 117 300 707 384 740 998 940 814 38 461 188 247 650 606 227 256 192 623 799 729 117 394 323 380 179 260 410 380 58 316 95 443 585 893 736 961 957 71 607 304 797 535 410 537 503 498 465 690 686 830 843 301 365 92 599 74 849 149 336 938 789 778 210 484 807 672 764 966 651 473 459 885 556 56 815 983 187 234 761 669 534 928 662 41 301 761 818 596 308 558 985 429 800 810 712 952 270 675 752 373 863 962 489 560 764 673 203 674 322 774 830 925 156 955 169 851 614 611 511 38 232 99 430 772 767 193 372 865 122 830 417 21 87 140 5 857 30 646 407 500 965 914 149 553 923 567 916 400 817 359 203 43 749 308 111 27 612 410 585 911 641 910 254 535 66 522 19 463 860 766 173 662 593 984 309 775 76 97 732 98 97 550 76 723 498 30 48 542 459 273 596 136 107 47 28 849 157 928 191 669 91 203 859 864 655 665 767 276 116 142 279 927 863 693 911 709 842 305 380 756 965 728 716 182 286 269 645 392 681 813 292 250 177 817 728 288 874 309 185 71 209 842 612 834 25 565 828 794 484 568 762 572 652 600 875 781 410 844 197 704 145 245 751 469 650 301 772 915 835 363 513 340 384 295 703 486 78 847 577 347 971 645 39 17 834 341 77 785 91 976 21 819 317 286 253 460 107 364 261 948 57 670 529 277 96 237 737 66 529 866 570 328 377 346 863 174 556 793 245 997 205 43 360 111 546 692 652 617 454 242 337 31 832 887 494 83 526 694 848 226 818 502 186 645 273 560 44 716 348 339 911 868 726 37 249 383 212 125 562 43 62 811 955 290 538 929 791 716 948 587 14 79 717 715 170 866 789 358 786 446 339 488 197 787 417 836 590 6 198 813 497 98 392 926 980 344 325 717 369 985 179 151 960 706 707 217 236 74 781 825 245 224 584 337 991 827 868 326 695 984 642 664 756 147 374 609 839 379 315 781 713 653 474 727 61 289 474 636 835 613 202 948 631 810 577 936 363 562 44 919 779 290 869 360 707 609 479 18 368 276 302 88 459 686 922 43 275 252 962 346 115 99 866 560 829 131 479 31 376 477 995 962 895 610 670 581 78 93 881 636 490 746 265 379 853 569 170 627 429 395 440 631 993 11 142 602 944 817 471 281 869 565 251 439 90 95 280 363 856 240 774 665 954 284 813 730 982 560 951 630 725 704 700 398 239 844 770 512 410 61 316 211 429 429 613 930 447 474 171 319 19 359 345 978 642 948 177 202 534 18 160 648 698 369 925\n",
      "[290, 112, 217, 950, 559, 866, 239, 367, 549, 141, 323, 967, 927, 267, 917, 681, 348, 478, 868, 325, 332, 391, 445, 738, 809, 573, 792, 662, 942, 877, 727, 131, 86, 723, 397, 657, 507, 511, 369, 921, 459, 960, 870, 657, 399, 973, 856, 586, 674, 679, 104, 133, 836, 851, 716, 534, 245, 29, 613, 880, 119, 737, 640, 62, 888, 967, 969, 361, 51, 937, 3, 813, 912, 480, 624, 694, 900, 926, 255, 726, 499, 435, 514, 297, 752, 805, 340, 230, 543, 735, 517, 954, 913, 104, 972, 958, 843, 695, 50, 379, 540, 500, 171, 370, 658, 737, 376, 540, 639, 233, 215, 920, 925, 659, 243, 158, 920, 741, 362, 191, 606, 8, 945, 142, 360, 138, 695, 648, 103, 20, 514, 148, 999, 1, 591, 136, 454, 100, 561, 272, 697, 452, 426, 841, 538, 298, 71, 614, 941, 553, 352, 278, 120, 769, 721, 948, 286, 4, 450, 801, 212, 463, 854, 586, 881, 227, 276, 130, 412, 987, 962, 82, 248, 195, 835, 398, 350, 766, 59, 16, 868, 108, 50, 649, 633, 436, 939, 829, 186, 763, 675, 804, 728, 194, 276, 615, 332, 985, 464, 472, 350, 72, 631, 616, 771, 115, 644, 389, 929, 886, 946, 571, 860, 214, 114, 741, 443, 318, 6, 696, 917, 725, 741, 725, 838, 600, 645, 540, 800, 240, 55, 110, 600, 208, 388, 53, 612, 464, 996, 474, 854, 828, 618, 915, 590, 755, 751, 832, 964, 877, 191, 448, 89, 57, 224, 837, 970, 918, 81, 595, 869, 398, 353, 869, 617, 934, 991, 742, 773, 65, 506, 274, 243, 476, 710, 975, 723, 486, 746, 130, 135, 139, 714, 2, 119, 229, 929, 953, 531, 295, 284, 876, 577, 269, 849, 175, 798, 516, 178, 230, 924, 610, 154, 599, 635, 639, 253, 928, 68, 336, 674, 993, 791, 535, 621, 788, 250, 61, 643, 448, 734, 855, 751, 368, 36, 244, 516, 758, 564, 768, 853, 698, 30, 899, 530, 634, 186, 996, 261, 364, 437, 341, 143, 175, 906, 638, 341, 187, 123, 101, 824, 209, 870, 668, 457, 860, 334, 271, 947, 246, 81, 368, 662, 507, 562, 469, 430, 977, 779, 974, 375, 693, 249, 37, 250, 345, 29, 987, 114, 34, 378, 886, 561, 538, 497, 959, 863, 820, 426, 141, 201, 205, 618, 89, 216, 191, 827, 853, 668, 139, 947, 762, 437, 878, 65, 145, 390, 175, 525, 395, 164, 177, 784, 406, 455, 739, 657, 658, 927, 807, 89, 394, 276, 48, 587, 58, 15, 371, 807, 276, 878, 716, 555, 723, 8, 117, 300, 707, 384, 740, 998, 940, 814, 38, 461, 188, 247, 650, 606, 227, 256, 192, 623, 799, 729, 117, 394, 323, 380, 179, 260, 410, 380, 58, 316, 95, 443, 585, 893, 736, 961, 957, 71, 607, 304, 797, 535, 410, 537, 503, 498, 465, 690, 686, 830, 843, 301, 365, 92, 599, 74, 849, 149, 336, 938, 789, 778, 210, 484, 807, 672, 764, 966, 651, 473, 459, 885, 556, 56, 815, 983, 187, 234, 761, 669, 534, 928, 662, 41, 301, 761, 818, 596, 308, 558, 985, 429, 800, 810, 712, 952, 270, 675, 752, 373, 863, 962, 489, 560, 764, 673, 203, 674, 322, 774, 830, 925, 156, 955, 169, 851, 614, 611, 511, 38, 232, 99, 430, 772, 767, 193, 372, 865, 122, 830, 417, 21, 87, 140, 5, 857, 30, 646, 407, 500, 965, 914, 149, 553, 923, 567, 916, 400, 817, 359, 203, 43, 749, 308, 111, 27, 612, 410, 585, 911, 641, 910, 254, 535, 66, 522, 19, 463, 860, 766, 173, 662, 593, 984, 309, 775, 76, 97, 732, 98, 97, 550, 76, 723, 498, 30, 48, 542, 459, 273, 596, 136, 107, 47, 28, 849, 157, 928, 191, 669, 91, 203, 859, 864, 655, 665, 767, 276, 116, 142, 279, 927, 863, 693, 911, 709, 842, 305, 380, 756, 965, 728, 716, 182, 286, 269, 645, 392, 681, 813, 292, 250, 177, 817, 728, 288, 874, 309, 185, 71, 209, 842, 612, 834, 25, 565, 828, 794, 484, 568, 762, 572, 652, 600, 875, 781, 410, 844, 197, 704, 145, 245, 751, 469, 650, 301, 772, 915, 835, 363, 513, 340, 384, 295, 703, 486, 78, 847, 577, 347, 971, 645, 39, 17, 834, 341, 77, 785, 91, 976, 21, 819, 317, 286, 253, 460, 107, 364, 261, 948, 57, 670, 529, 277, 96, 237, 737, 66, 529, 866, 570, 328, 377, 346, 863, 174, 556, 793, 245, 997, 205, 43, 360, 111, 546, 692, 652, 617, 454, 242, 337, 31, 832, 887, 494, 83, 526, 694, 848, 226, 818, 502, 186, 645, 273, 560, 44, 716, 348, 339, 911, 868, 726, 37, 249, 383, 212, 125, 562, 43, 62, 811, 955, 290, 538, 929, 791, 716, 948, 587, 14, 79, 717, 715, 170, 866, 789, 358, 786, 446, 339, 488, 197, 787, 417, 836, 590, 6, 198, 813, 497, 98, 392, 926, 980, 344, 325, 717, 369, 985, 179, 151, 960, 706, 707, 217, 236, 74, 781, 825, 245, 224, 584, 337, 991, 827, 868, 326, 695, 984, 642, 664, 756, 147, 374, 609, 839, 379, 315, 781, 713, 653, 474, 727, 61, 289, 474, 636, 835, 613, 202, 948, 631, 810, 577, 936, 363, 562, 44, 919, 779, 290, 869, 360, 707, 609, 479, 18, 368, 276, 302, 88, 459, 686, 922, 43, 275, 252, 962, 346, 115, 99, 866, 560, 829, 131, 479, 31, 376, 477, 995, 962, 895, 610, 670, 581, 78, 93, 881, 636, 490, 746, 265, 379, 853, 569, 170, 627, 429, 395, 440, 631, 993, 11, 142, 602, 944, 817, 471, 281, 869, 565, 251, 439, 90, 95, 280, 363, 856, 240, 774, 665, 954, 284, 813, 730, 982, 560, 951, 630, 725, 704, 700, 398, 239, 844, 770, 512, 410, 61, 316, 211, 429, 429, 613, 930, 447, 474, 171, 319, 19, 359, 345, 978, 642, 948, 177, 202, 534, 18, 160, 648, 698, 369, 925]\n",
      "852037330492032018811197402768319180198683991817854075030014557908692713532040953194371503714648500933885894974627118219886730436943148274470087302378443653775077623272062251581572485338474640391983789187268137060626351706651439168222728781866339008589205125139260322056808050461787210287760302230321362371642590205484278201634184162047876387851691883395203374931294001862131362458869755818101162780789533504229301096700310730602045555541855659203527397668713665974660313051456479314938580057534080140293890938316731054401891098960252428932245903331730245408396505222858527652855515922094801851435871892359326179875392247259448413951626591346493775949738976283276454881441067174858808180094704243372982442948262551552268077853010110089841475491124472984330538829800279203125724002334374045710669194252231703507137550001375213522922852253471856970423500239211334712105752389107371353962108628086731633589433489518788758443965830260842466307211268069330624009163363630333904299788062209392028456164273622200352431300030247777455305819984540880525461180099601871347287520666415966505445966792470004644885049226035159950709110498586941148119380200871891156902066072316285946527346798267922273971094501434903578652814396881269432491187509736621703453963035810862381412858583793501731344953559650615004784619389221881019968989327187990655006789064623250818500878973683450840437815810050037402576416340072550897192826415038562804864065461333374033008733415332004098326713315089096308537832316661016322464826563215544025219794311794119967285297371228422587830977908750183687772567361341469484964656049228871932390058365303931841087963738321219205695517572760880522380371275164164768851021278247675849563558132670106666205150987619053633900612040753586855144883515694601543906191600238832953588054536062264406062210056858692144620494771783316314564426999741232095182108947339650642000795907289877826428105630364628275795612166542821450451475392820490363266369632244427957825250934726559320912537093924244714037769197622819821504631177197757263410368683110145638471220823268157757948324556103199852590080716688440795782037612101033558191431453764132616763432460217884959628119762735673439802474623112099933691461354167798890531313639130389028843876408872307767870201831749071945682684201674344663789296843526444888883200000000000000000000000000000000000000000000000000000000000000000000000000000000000000000000000000000000000000000000000000000000000000000000000000000000000000000000000000000000000000000000000000000000000000000000000000000000000000000000000000000000000000000000000000000\n"
     ]
    },
    {
     "data": {
      "text/plain": [
       "'\\nstore = []\\n\\nfor i in inp_value:\\n    print(i)\\n    a = list(i)\\n    store.append(a)\\n    \\nx = 1\\n\\nfor i in range(0, inp*2, 2):\\n    t = int(a[i])\\n    x = x*t\\n\\nprint(x)\\n\\n'"
      ]
     },
     "execution_count": 86,
     "metadata": {},
     "output_type": "execute_result"
    }
   ],
   "source": [
    "inp = int(input())\n",
    "\n",
    "inp_value = input()\n",
    "\n",
    "inp_value = inp_value.split(' ')\n",
    "\n",
    "x = [i for i in inp_value]\n",
    "store = []\n",
    "\n",
    "for i in range(0, inp):\n",
    "    integer = int(x[i])\n",
    "    store.append(integer)\n",
    "    \n",
    "print(store)\n",
    "\n",
    "product = 1\n",
    "for i in store:\n",
    "    product = product*i\n",
    "    \n",
    "print(product)\n",
    "\n",
    "\n",
    "'''\n",
    "store = []\n",
    "\n",
    "for i in inp_value:\n",
    "    print(i)\n",
    "    a = list(i)\n",
    "    store.append(a)\n",
    "    \n",
    "x = 1\n",
    "\n",
    "for i in range(0, inp*2, 2):\n",
    "    t = int(a[i])\n",
    "    x = x*t\n",
    "\n",
    "print(x)\n",
    "\n",
    "'''"
   ]
  },
  {
   "cell_type": "code",
   "execution_count": 89,
   "metadata": {},
   "outputs": [
    {
     "name": "stdout",
     "output_type": "stream",
     "text": [
      "2\n",
      "10 2\n",
      "['1', '0', ' ', '2']\n"
     ]
    },
    {
     "ename": "AttributeError",
     "evalue": "'list' object has no attribute 'replace'",
     "output_type": "error",
     "traceback": [
      "\u001b[1;31m---------------------------------------------------------------------------\u001b[0m",
      "\u001b[1;31mAttributeError\u001b[0m                            Traceback (most recent call last)",
      "\u001b[1;32m<ipython-input-89-75b776a24522>\u001b[0m in \u001b[0;36m<module>\u001b[1;34m\u001b[0m\n\u001b[0;32m      5\u001b[0m \u001b[0ma\u001b[0m \u001b[1;33m=\u001b[0m \u001b[0mlist\u001b[0m\u001b[1;33m(\u001b[0m\u001b[0minp_value\u001b[0m\u001b[1;33m)\u001b[0m\u001b[1;33m\u001b[0m\u001b[1;33m\u001b[0m\u001b[0m\n\u001b[0;32m      6\u001b[0m \u001b[0mprint\u001b[0m\u001b[1;33m(\u001b[0m\u001b[0ma\u001b[0m\u001b[1;33m)\u001b[0m\u001b[1;33m\u001b[0m\u001b[1;33m\u001b[0m\u001b[0m\n\u001b[1;32m----> 7\u001b[1;33m \u001b[0ma\u001b[0m \u001b[1;33m=\u001b[0m \u001b[0ma\u001b[0m\u001b[1;33m.\u001b[0m\u001b[0mreplace\u001b[0m\u001b[1;33m(\u001b[0m\u001b[1;34m' '\u001b[0m\u001b[1;33m,\u001b[0m\u001b[1;34m''\u001b[0m\u001b[1;33m)\u001b[0m\u001b[1;33m\u001b[0m\u001b[1;33m\u001b[0m\u001b[0m\n\u001b[0m\u001b[0;32m      8\u001b[0m \u001b[1;33m\u001b[0m\u001b[0m\n\u001b[0;32m      9\u001b[0m \u001b[0mx\u001b[0m \u001b[1;33m=\u001b[0m \u001b[1;36m1\u001b[0m\u001b[1;33m\u001b[0m\u001b[1;33m\u001b[0m\u001b[0m\n",
      "\u001b[1;31mAttributeError\u001b[0m: 'list' object has no attribute 'replace'"
     ]
    }
   ],
   "source": [
    "inp = int(input())\n",
    "\n",
    "inp_value = input()\n",
    "\n",
    "a = list(inp_value)\n",
    "print(a)\n",
    "a = a.replace(' ','')\n",
    "\n",
    "x = 1\n",
    "\n",
    "for i in range(0, inp):\n",
    "    t = int(a[i])\n",
    "    x = x*t\n",
    "\n",
    "print(x)\n"
   ]
  },
  {
   "cell_type": "code",
   "execution_count": 109,
   "metadata": {},
   "outputs": [
    {
     "name": "stdout",
     "output_type": "stream",
     "text": [
      "10\n",
      "UUDDDDUUDD\n",
      "D<U1\n",
      "D<U2\n",
      "D=U3\n",
      "1\n"
     ]
    }
   ],
   "source": [
    "inp = int(input())\n",
    "\n",
    "inp_value = input()\n",
    "\n",
    "inp_value = [i for i in inp_value]\n",
    "\n",
    "countU = 0\n",
    "countD = 0\n",
    "valley = 0\n",
    "for i in range(0, inp):\n",
    "    if inp_value[i] == 'D':\n",
    "        countD = countD + 1\n",
    "        \n",
    "        \n",
    "    elif inp_value[i] == 'U':\n",
    "        countU = countU + 1\n",
    "        if countD < countU:\n",
    "            valley = valley + 1\n",
    "        elif countD == countU:\n",
    "            valley = valley + 1\n",
    "\n",
    "                \n",
    "            \n",
    "if countD < countU:    \n",
    "    print(valley)\n",
    "    \n",
    "elif countD == countU:\n",
    "    print(valley)\n",
    "\n",
    "elif countD > countU:\n",
    "    print(1)"
   ]
  },
  {
   "cell_type": "code",
   "execution_count": 113,
   "metadata": {},
   "outputs": [
    {
     "name": "stdout",
     "output_type": "stream",
     "text": [
      "16\n",
      "UUUUDDDDDDUUDDUU\n",
      "2\n"
     ]
    }
   ],
   "source": [
    "n = int(input())\n",
    "steps = input()\n",
    "\n",
    "num_valleys, curr_level = 0, 0\n",
    "for step in steps:\n",
    "    if curr_level == 0 and step == 'D':\n",
    "        num_valleys += 1\n",
    "    if step == 'U':\n",
    "        curr_level += 1\n",
    "    else:\n",
    "        curr_level -= 1\n",
    "print(num_valleys)"
   ]
  },
  {
   "cell_type": "code",
   "execution_count": 124,
   "metadata": {},
   "outputs": [
    {
     "name": "stdout",
     "output_type": "stream",
     "text": [
      "5\n",
      "1 0 0 1 0\n",
      " initial 0\n",
      " initial 1\n",
      " initial 2\n",
      "final 4\n",
      " initial 3\n",
      " initial 4\n",
      "2\n"
     ]
    }
   ],
   "source": [
    "inp = int(input())\n",
    "\n",
    "inp_value = input()\n",
    "\n",
    "inp_value = inp_value.replace(' ', '')\n",
    "\n",
    "inp_value = list(inp_value)\n",
    "\n",
    "count1 = 0\n",
    "count2 = 0\n",
    "\n",
    "try:\n",
    "    for i in range(0, len(inp_value)):\n",
    "        print(f' initial {i}')\n",
    "        if inp_value[i] == '0':\n",
    "            if inp_value[i+2] == '0':\n",
    "                count1 = count1 + 1\n",
    "                i = i+2\n",
    "                print(f'final {i}')\n",
    "            elif inp_value[i+1] == '0':\n",
    "                count2 = count2 + 1\n",
    "                i = i+1\n",
    "                \n",
    "\n",
    "except:\n",
    "    print(count1 + count2)\n"
   ]
  },
  {
   "cell_type": "code",
   "execution_count": 129,
   "metadata": {},
   "outputs": [
    {
     "name": "stdout",
     "output_type": "stream",
     "text": [
      "8\n",
      "52\n",
      "4\n",
      "6\n",
      "8\n",
      "85\n",
      "5\n",
      "6\n",
      "20\n",
      "85\n",
      "[52, 4, 6, 8, 85, 5, 6, 20]\n",
      "YES\n"
     ]
    }
   ],
   "source": [
    "inp = int(input())\n",
    "\n",
    "inp_value = []\n",
    "for i in range(0, inp):\n",
    "    inp_v = int(input())\n",
    "    inp_value.append(inp_v)\n",
    "    \n",
    "    \n",
    "    \n",
    "    \n",
    "inp_search = int(input())\n",
    "print(inp_value)\n",
    "\n",
    "for i in inp_value:\n",
    "    if i == inp_search:\n",
    "        print('YES')\n"
   ]
  },
  {
   "cell_type": "code",
   "execution_count": 7,
   "metadata": {},
   "outputs": [
    {
     "name": "stdout",
     "output_type": "stream",
     "text": [
      "Number to be searched    5\n",
      "Length of the array     2\n",
      "5\n",
      "3\n",
      "output is found in the position 0\n"
     ]
    }
   ],
   "source": [
    "V = int(input('Number to be searched    '))\n",
    "n = int(input('Length of the array     '))\n",
    "arr = []\n",
    "\n",
    "for i in range(0, n):\n",
    "    arr1 = int(input())\n",
    "    arr.append(arr1)\n",
    "    \n",
    "    \n",
    "for k,v in enumerate(arr):\n",
    "    if v == V:\n",
    "        print(f'output is found in the position {k}')\n",
    "    "
   ]
  },
  {
   "cell_type": "code",
   "execution_count": null,
   "metadata": {},
   "outputs": [],
   "source": []
  }
 ],
 "metadata": {
  "kernelspec": {
   "display_name": "Python 3",
   "language": "python",
   "name": "python3"
  },
  "language_info": {
   "codemirror_mode": {
    "name": "ipython",
    "version": 3
   },
   "file_extension": ".py",
   "mimetype": "text/x-python",
   "name": "python",
   "nbconvert_exporter": "python",
   "pygments_lexer": "ipython3",
   "version": "3.7.6"
  }
 },
 "nbformat": 4,
 "nbformat_minor": 2
}
